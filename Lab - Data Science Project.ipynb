{
 "cells": [
  {
   "cell_type": "markdown",
   "metadata": {
    "application/vnd.databricks.v1+cell": {
     "cellMetadata": {},
     "inputWidgets": {},
     "nuid": "ef2cb4d2-d593-4e08-9e8a-e824592b28ee",
     "showTitle": false,
     "title": ""
    }
   },
   "source": [
    "\n",
    "<div style=\"text-align: center; line-height: 0; padding-top: 9px;\">\n",
    "  <img src=\"https://databricks.com/wp-content/uploads/2018/03/db-academy-rgb-1200px.png\" alt=\"Databricks Learning\" style=\"width: 600px\">\n",
    "</div>"
   ]
  },
  {
   "cell_type": "markdown",
   "metadata": {
    "application/vnd.databricks.v1+cell": {
     "cellMetadata": {},
     "inputWidgets": {},
     "nuid": "1419f334-d6f4-431a-a11e-07682f4609d8",
     "showTitle": false,
     "title": ""
    }
   },
   "source": [
    "# Data Science Project\n",
    "\n",
    "**Objective**: *Design, complete, and assess a common data science project.*\n",
    "\n",
    "In this lab, you will use the data science process to design, build, and assess a common data science project."
   ]
  },
  {
   "cell_type": "code",
   "execution_count": 0,
   "metadata": {
    "application/vnd.databricks.v1+cell": {
     "cellMetadata": {
      "byteLimit": 2048000,
      "rowLimit": 10000
     },
     "inputWidgets": {},
     "nuid": "fed9d2fd-c153-4355-8ade-c1e31e25d20b",
     "showTitle": false,
     "title": ""
    }
   },
   "outputs": [
    {
     "output_type": "stream",
     "name": "stdout",
     "output_type": "stream",
     "text": [
      "Out[4]: True"
     ]
    }
   ],
   "source": [
    "dbutils.fs.rm(\"dbfs:/user/hive/warehouse/dsfda.db/ht_agg\", recurse=True)"
   ]
  },
  {
   "cell_type": "code",
   "execution_count": 0,
   "metadata": {
    "application/vnd.databricks.v1+cell": {
     "cellMetadata": {
      "byteLimit": 2048000,
      "implicitDf": true,
      "rowLimit": 10000
     },
     "inputWidgets": {},
     "nuid": "9c95c5bc-62b0-4c86-ba88-2d2b3dfdd6e4",
     "showTitle": false,
     "title": ""
    }
   },
   "outputs": [
    {
     "output_type": "display_data",
     "data": {
      "text/html": [
       "Mounting course-specific datasets to <b>/mnt/training</b>...</br>Datasets are already mounted to <b>/mnt/training</b> from <b>s3a://databricks-corp-training/common</b>"
      ]
     },
     "metadata": {
      "application/vnd.databricks.v1+output": {
       "addedWidgets": {},
       "arguments": {},
       "data": "Mounting course-specific datasets to <b>/mnt/training</b>...</br>Datasets are already mounted to <b>/mnt/training</b> from <b>s3a://databricks-corp-training/common</b>",
       "datasetInfos": [],
       "metadata": {
        "isDbfsCommandResult": false
       },
       "removedWidgets": [],
       "textData": null,
       "type": "htmlSandbox"
      }
     },
     "output_type": "display_data"
    },
    {
     "output_type": "stream",
     "name": "stdout",
     "output_type": "stream",
     "text": [
      "Out[6]: DataFrame[]"
     ]
    },
    {
     "output_type": "display_data",
     "data": {
      "text/html": [
       "<style scoped>\n",
       "  .ansiout {\n",
       "    display: block;\n",
       "    unicode-bidi: embed;\n",
       "    white-space: pre-wrap;\n",
       "    word-wrap: break-word;\n",
       "    word-break: break-all;\n",
       "    font-family: \"Menlo\", \"Monaco\", \"Consolas\", \"Ubuntu Mono\", \"Source Code Pro\", monospace;\n",
       "    font-size: 13px;\n",
       "    color: #555;\n",
       "    margin-left: 4px;\n",
       "    line-height: 19px;\n",
       "  }\n",
       "</style>\n",
       "<div class=\"ansiout\">res1: Boolean = false\n",
       "</div>"
      ]
     },
     "metadata": {
      "application/vnd.databricks.v1+output": {
       "addedWidgets": {},
       "arguments": {},
       "data": "<div class=\"ansiout\">res1: Boolean = false\n</div>",
       "datasetInfos": [],
       "metadata": {
        "isDbfsCommandResult": false
       },
       "removedWidgets": [],
       "type": "html"
      }
     },
     "output_type": "display_data"
    },
    {
     "output_type": "display_data",
     "data": {
      "text/html": [
       "<style scoped>\n",
       "  .ansiout {\n",
       "    display: block;\n",
       "    unicode-bidi: embed;\n",
       "    white-space: pre-wrap;\n",
       "    word-wrap: break-word;\n",
       "    word-break: break-all;\n",
       "    font-family: \"Menlo\", \"Monaco\", \"Consolas\", \"Ubuntu Mono\", \"Source Code Pro\", monospace;\n",
       "    font-size: 13px;\n",
       "    color: #555;\n",
       "    margin-left: 4px;\n",
       "    line-height: 19px;\n",
       "  }\n",
       "</style>\n",
       "<div class=\"ansiout\">res2: Boolean = false\n",
       "</div>"
      ]
     },
     "metadata": {
      "application/vnd.databricks.v1+output": {
       "addedWidgets": {},
       "arguments": {},
       "data": "<div class=\"ansiout\">res2: Boolean = false\n</div>",
       "datasetInfos": [],
       "metadata": {
        "isDbfsCommandResult": false
       },
       "removedWidgets": [],
       "type": "html"
      }
     },
     "output_type": "display_data"
    },
    {
     "output_type": "display_data",
     "data": {
      "text/html": [
       "<style scoped>\n",
       "  .table-result-container {\n",
       "    max-height: 300px;\n",
       "    overflow: auto;\n",
       "  }\n",
       "  table, th, td {\n",
       "    border: 1px solid black;\n",
       "    border-collapse: collapse;\n",
       "  }\n",
       "  th, td {\n",
       "    padding: 5px;\n",
       "  }\n",
       "  th {\n",
       "    text-align: left;\n",
       "  }\n",
       "</style><div class='table-result-container'><table class='table-result'><thead style='background-color: white'><tr></tr></thead><tbody></tbody></table></div>"
      ]
     },
     "metadata": {
      "application/vnd.databricks.v1+output": {
       "addedWidgets": {},
       "aggData": [],
       "aggError": "",
       "aggOverflow": false,
       "aggSchema": [],
       "aggSeriesLimitReached": false,
       "aggType": "",
       "arguments": {},
       "columnCustomDisplayInfos": {},
       "data": [],
       "datasetInfos": [],
       "dbfsResultPath": null,
       "isJsonSchema": true,
       "metadata": {},
       "overflow": false,
       "plotOptions": {
        "customPlotOptions": {},
        "displayType": "table",
        "pivotAggregation": null,
        "pivotColumns": null,
        "xColumns": null,
        "yColumns": null
       },
       "removedWidgets": [],
       "schema": [],
       "type": "table"
      }
     },
     "output_type": "display_data"
    }
   ],
   "source": [
    "%run \"../../Includes/Classroom-Setup\""
   ]
  },
  {
   "cell_type": "markdown",
   "metadata": {
    "application/vnd.databricks.v1+cell": {
     "cellMetadata": {},
     "inputWidgets": {},
     "nuid": "4b748d7e-6741-4b89-82df-d70b4719c0d6",
     "showTitle": false,
     "title": ""
    }
   },
   "source": [
    "## Project Details\n",
    "\n",
    "In recent months, our health tracker company has noticed that many customers drop out of the sign-up process when they have to self-identify their exercise lifestyle (`ht_users.lifestyle`) – this is especially true for those with a \"Sedentary\" lifestyle. As a result, the company is considering removing this step from the sign-up process. However, the company knows this data is valuable for targeting introductory exercises and they don't want to lose it for customers that sign up after the step is removed.\n",
    "\n",
    "In this data science project, our business stakeholders are interested in identifying which customers have a sedentary lifestyle – specifically, they want to know if we can correctly identify whether somebody has a \"Sedentary\" lifestyle at least 95 percent of the time. If we can meet this objective, the organization will be able to remove the lifestyle-specification step of the sign-up process *without losing the valuable information provided by the data*.\n",
    "\n",
    "\n",
    "<img alt=\"Side Note\" title=\"Side Note\" style=\"vertical-align: text-bottom; position: relative; height:1.75em; top:0.05em; transform:rotate(15deg)\" src=\"https://files.training.databricks.com/static/images/icon-note.webp\"/> There are no solutions provided for this project. You will need to complete it independently using the guidance detailed below and the previous labs from the project."
   ]
  },
  {
   "cell_type": "markdown",
   "metadata": {
    "application/vnd.databricks.v1+cell": {
     "cellMetadata": {},
     "inputWidgets": {},
     "nuid": "c3e3e425-66e7-451f-b57a-a722f924edaf",
     "showTitle": false,
     "title": ""
    }
   },
   "source": [
    "\n",
    "## Exercise 1\n",
    "\n",
    "Summary: \n",
    "* Specify the data science process question. \n",
    "* Indicate whether this is framed as a supervised learning or unsupervised learning problem. \n",
    "* If it is supervised learning, indicate whether the problem is a regression problem or a classification problem.\n",
    "\n",
    "<img alt=\"Hint\" title=\"Hint\" style=\"vertical-align: text-bottom; position: relative; height:1.75em; top:0.3em\" src=\"https://files.training.databricks.com/static/images/icon-light-bulb.svg\"/>&nbsp;**Hint:** When we are interested in predicting something, we are usually talking about a supervised learning problem."
   ]
  },
  {
   "cell_type": "code",
   "execution_count": 0,
   "metadata": {
    "application/vnd.databricks.v1+cell": {
     "cellMetadata": {},
     "inputWidgets": {},
     "nuid": "e27f4055-2e5c-462b-b82e-1008876cf58e",
     "showTitle": false,
     "title": ""
    }
   },
   "outputs": [],
   "source": [
    "#Question\n",
    "#Can we identify people with a \"Sedentary\" lifestyle based on the other informatioon given in the sign up process?\n",
    "#Supervised learning - Classification"
   ]
  },
  {
   "cell_type": "markdown",
   "metadata": {
    "application/vnd.databricks.v1+cell": {
     "cellMetadata": {},
     "inputWidgets": {},
     "nuid": "db9f17dc-9948-4a6d-ac81-f71b3779945c",
     "showTitle": false,
     "title": ""
    }
   },
   "source": [
    "\n",
    "## Exercise 2\n",
    "\n",
    "Summary: \n",
    "\n",
    "* Specify the data science objective. \n",
    "* Indicate which evaluation metric should be used to assess the objective.\n",
    "\n",
    "<img alt=\"Hint\" title=\"Hint\" style=\"vertical-align: text-bottom; position: relative; height:1.75em; top:0.3em\" src=\"https://files.training.databricks.com/static/images/icon-light-bulb.svg\"/>&nbsp;**Hint:** Remember, the data science objective needs to be measurable."
   ]
  },
  {
   "cell_type": "code",
   "execution_count": 0,
   "metadata": {
    "application/vnd.databricks.v1+cell": {
     "cellMetadata": {},
     "inputWidgets": {},
     "nuid": "e344fe95-7f70-4e72-b17c-d41ba7cdb60e",
     "showTitle": false,
     "title": ""
    }
   },
   "outputs": [],
   "source": [
    "#Objective: To create a model that can predict if a user has a sedentary lifestyle based on the information given on the sign up process with at least 95% accuracy."
   ]
  },
  {
   "cell_type": "markdown",
   "metadata": {
    "application/vnd.databricks.v1+cell": {
     "cellMetadata": {},
     "inputWidgets": {},
     "nuid": "e70f007d-c0d6-4711-a8d2-7cdaa18a4e48",
     "showTitle": false,
     "title": ""
    }
   },
   "source": [
    "\n",
    "## Exercise 3\n",
    "\n",
    "Summary:\n",
    "* Design a baseline solution.\n",
    "* Develop a baseline solution – be sure to split data between training for development and test for assessment.\n",
    "* Assess your baseline solution. Does it meet the project objective? If not, use it as a threshold for further development.\n",
    "\n",
    "<img alt=\"Hint\" title=\"Hint\" style=\"vertical-align: text-bottom; position: relative; height:1.75em; top:0.3em\" src=\"https://files.training.databricks.com/static/images/icon-light-bulb.svg\"/>&nbsp;**Hint:** Recall that baseline solutions are meant to be easy to develop."
   ]
  },
  {
   "cell_type": "code",
   "execution_count": 0,
   "metadata": {
    "application/vnd.databricks.v1+cell": {
     "cellMetadata": {
      "byteLimit": 2048000,
      "rowLimit": 10000
     },
     "inputWidgets": {},
     "nuid": "d373a734-1530-446e-8a3c-edb3f17cf34a",
     "showTitle": false,
     "title": ""
    }
   },
   "outputs": [
    {
     "output_type": "stream",
     "name": "stdout",
     "output_type": "stream",
     "text": [
      "3000\n"
     ]
    }
   ],
   "source": [
    "import pandas as pd\n",
    "\n",
    "ht_users_spark_df = spark.read.table(\"ht_users\")\n",
    "ht_users_pandas_df = ht_users_spark_df.toPandas()\n",
    "\n",
    "print(len(ht_users_pandas_df))"
   ]
  },
  {
   "cell_type": "code",
   "execution_count": 0,
   "metadata": {
    "application/vnd.databricks.v1+cell": {
     "cellMetadata": {
      "byteLimit": 2048000,
      "rowLimit": 10000
     },
     "inputWidgets": {},
     "nuid": "ed1f052b-ee87-4d90-a208-2ce91008adcd",
     "showTitle": false,
     "title": ""
    }
   },
   "outputs": [
    {
     "output_type": "stream",
     "name": "stdout",
     "output_type": "stream",
     "text": [
      "2400\n600\n"
     ]
    },
    {
     "output_type": "display_data",
     "data": {
      "text/html": [
       "<div>\n",
       "<style scoped>\n",
       "    .dataframe tbody tr th:only-of-type {\n",
       "        vertical-align: middle;\n",
       "    }\n",
       "\n",
       "    .dataframe tbody tr th {\n",
       "        vertical-align: top;\n",
       "    }\n",
       "\n",
       "    .dataframe thead th {\n",
       "        text-align: right;\n",
       "    }\n",
       "</style>\n",
       "<table border=\"1\" class=\"dataframe\">\n",
       "  <thead>\n",
       "    <tr style=\"text-align: right;\">\n",
       "      <th></th>\n",
       "      <th>device_id</th>\n",
       "      <th>first_name</th>\n",
       "      <th>last_name</th>\n",
       "      <th>country</th>\n",
       "    </tr>\n",
       "    <tr>\n",
       "      <th>lifestyle</th>\n",
       "      <th></th>\n",
       "      <th></th>\n",
       "      <th></th>\n",
       "      <th></th>\n",
       "    </tr>\n",
       "  </thead>\n",
       "  <tbody>\n",
       "    <tr>\n",
       "      <th>Athlete</th>\n",
       "      <td>29.166667</td>\n",
       "      <td>29.166667</td>\n",
       "      <td>29.166667</td>\n",
       "      <td>29.166667</td>\n",
       "    </tr>\n",
       "    <tr>\n",
       "      <th>Cardio Enthusiast</th>\n",
       "      <td>35.791667</td>\n",
       "      <td>35.791667</td>\n",
       "      <td>35.791667</td>\n",
       "      <td>35.791667</td>\n",
       "    </tr>\n",
       "    <tr>\n",
       "      <th>Sedentary</th>\n",
       "      <td>10.125000</td>\n",
       "      <td>10.125000</td>\n",
       "      <td>10.125000</td>\n",
       "      <td>10.125000</td>\n",
       "    </tr>\n",
       "    <tr>\n",
       "      <th>Weight Trainer</th>\n",
       "      <td>24.916667</td>\n",
       "      <td>24.916667</td>\n",
       "      <td>24.916667</td>\n",
       "      <td>24.916667</td>\n",
       "    </tr>\n",
       "  </tbody>\n",
       "</table>\n",
       "</div>"
      ]
     },
     "metadata": {
      "application/vnd.databricks.v1+output": {
       "addedWidgets": {},
       "arguments": {},
       "data": "<div>\n<style scoped>\n    .dataframe tbody tr th:only-of-type {\n        vertical-align: middle;\n    }\n\n    .dataframe tbody tr th {\n        vertical-align: top;\n    }\n\n    .dataframe thead th {\n        text-align: right;\n    }\n</style>\n<table border=\"1\" class=\"dataframe\">\n  <thead>\n    <tr style=\"text-align: right;\">\n      <th></th>\n      <th>device_id</th>\n      <th>first_name</th>\n      <th>last_name</th>\n      <th>country</th>\n    </tr>\n    <tr>\n      <th>lifestyle</th>\n      <th></th>\n      <th></th>\n      <th></th>\n      <th></th>\n    </tr>\n  </thead>\n  <tbody>\n    <tr>\n      <th>Athlete</th>\n      <td>29.166667</td>\n      <td>29.166667</td>\n      <td>29.166667</td>\n      <td>29.166667</td>\n    </tr>\n    <tr>\n      <th>Cardio Enthusiast</th>\n      <td>35.791667</td>\n      <td>35.791667</td>\n      <td>35.791667</td>\n      <td>35.791667</td>\n    </tr>\n    <tr>\n      <th>Sedentary</th>\n      <td>10.125000</td>\n      <td>10.125000</td>\n      <td>10.125000</td>\n      <td>10.125000</td>\n    </tr>\n    <tr>\n      <th>Weight Trainer</th>\n      <td>24.916667</td>\n      <td>24.916667</td>\n      <td>24.916667</td>\n      <td>24.916667</td>\n    </tr>\n  </tbody>\n</table>\n</div>",
       "datasetInfos": [],
       "metadata": {},
       "removedWidgets": [],
       "textData": null,
       "type": "htmlSandbox"
      }
     },
     "output_type": "display_data"
    }
   ],
   "source": [
    "#Baseline Solution: Assume that there evry person has a \"Sedentary\" lifestyle\n",
    "from sklearn.model_selection import train_test_split\n",
    "import numpy as np\n",
    "\n",
    "ht_users_train_df, ht_users_test_df = train_test_split(ht_users_pandas_df, test_size = 0.2, random_state = 42)\n",
    "\n",
    "#Check size of the training and test set\n",
    "print(len(ht_users_train_df))\n",
    "print(len(ht_users_test_df))\n",
    "\n",
    "#Baseline Solution Accuracy \n",
    "(ht_users_train_df.groupby(['lifestyle'], dropna=False).count()/2400)*100\n"
   ]
  },
  {
   "cell_type": "code",
   "execution_count": 0,
   "metadata": {
    "application/vnd.databricks.v1+cell": {
     "cellMetadata": {
      "byteLimit": 2048000,
      "rowLimit": 10000
     },
     "inputWidgets": {},
     "nuid": "426bd917-396c-42ad-a18f-464b4cc33324",
     "showTitle": true,
     "title": "("
    }
   },
   "outputs": [
    {
     "output_type": "stream",
     "name": "stdout",
     "output_type": "stream",
     "text": [
      "The accuracy in the training set is: 0.1\nThe accuracy in the test set is: 0.12\n"
     ]
    }
   ],
   "source": [
    "#Baseline Solution: Assume that every person has a \"Sedentary\" lifestyle\n",
    "from sklearn.model_selection import train_test_split\n",
    "\n",
    "ht_users_train_df, ht_users_test_df = train_test_split(ht_users_pandas_df, test_size = 0.2, random_state = 42)\n",
    "\n",
    "#Lifestyle Distribution\n",
    "train_lifestyle_distribution = ht_users_train_df['lifestyle'].value_counts(normalize=True) \n",
    "test_lifestyle_distribution = ht_users_test_df['lifestyle'].value_counts(normalize=True) \n",
    "\n",
    "#Baseline Solution Accuracy \n",
    "print('The accuracy in the training set is: {}'.format(round(train_lifestyle_distribution.loc['Sedentary'], 2)))\n",
    "print('The accuracy in the test set is: {}'.format(round(test_lifestyle_distribution.loc['Sedentary'], 2)))\n",
    "\n"
   ]
  },
  {
   "cell_type": "code",
   "execution_count": 0,
   "metadata": {
    "application/vnd.databricks.v1+cell": {
     "cellMetadata": {},
     "inputWidgets": {},
     "nuid": "99648475-6810-4d42-933e-415f2cf3bd08",
     "showTitle": false,
     "title": ""
    }
   },
   "outputs": [],
   "source": []
  },
  {
   "cell_type": "markdown",
   "metadata": {
    "application/vnd.databricks.v1+cell": {
     "cellMetadata": {},
     "inputWidgets": {},
     "nuid": "1280ba21-5220-4807-8538-f328c40a8787",
     "showTitle": false,
     "title": ""
    }
   },
   "source": [
    "\n",
    "## Exercise 4\n",
    "\n",
    "Summary: \n",
    "* Design the machine learning solution, but do not yet develop it. \n",
    "* Indicate whether a machine learning model will be used. If so, indicate which machine learning model will be used and what the label/output variable will be.\n",
    "\n",
    "<img alt=\"Hint\" title=\"Hint\" style=\"vertical-align: text-bottom; position: relative; height:1.75em; top:0.3em\" src=\"https://files.training.databricks.com/static/images/icon-light-bulb.svg\"/>&nbsp;**Hint:** Consider solutions that align with the framing you did in Exercise 1."
   ]
  },
  {
   "cell_type": "code",
   "execution_count": 0,
   "metadata": {
    "application/vnd.databricks.v1+cell": {
     "cellMetadata": {
      "byteLimit": 2048000,
      "rowLimit": 10000
     },
     "inputWidgets": {},
     "nuid": "b0283217-7980-4627-aa3e-39aeccd9744e",
     "showTitle": false,
     "title": ""
    }
   },
   "outputs": [],
   "source": [
    "#ML model -> Decision Tree\n",
    "#Label variable -> lifestyle\n"
   ]
  },
  {
   "cell_type": "markdown",
   "metadata": {
    "application/vnd.databricks.v1+cell": {
     "cellMetadata": {},
     "inputWidgets": {},
     "nuid": "fa133e9d-7a08-44de-97a2-c4a45920e633",
     "showTitle": false,
     "title": ""
    }
   },
   "source": [
    "## Exercise 5\n",
    "\n",
    "Summary: \n",
    "* Explore your data. \n",
    "* Specify which tables and columns will be used for your label/output variable and your feature variables.\n",
    "\n",
    "<img alt=\"Hint\" title=\"Hint\" style=\"vertical-align: text-bottom; position: relative; height:1.75em; top:0.3em\" src=\"https://files.training.databricks.com/static/images/icon-light-bulb.svg\"/>&nbsp;**Hint:** Consider aggregating features from other tables."
   ]
  },
  {
   "cell_type": "code",
   "execution_count": 0,
   "metadata": {
    "application/vnd.databricks.v1+cell": {
     "cellMetadata": {
      "byteLimit": 2048000,
      "rowLimit": 10000
     },
     "inputWidgets": {},
     "nuid": "8122cdf2-6b81-4110-a39f-dd2fb38a3a50",
     "showTitle": false,
     "title": ""
    }
   },
   "outputs": [
    {
     "output_type": "display_data",
     "data": {
      "text/html": [
       "<div>\n",
       "<style scoped>\n",
       "    .dataframe tbody tr th:only-of-type {\n",
       "        vertical-align: middle;\n",
       "    }\n",
       "\n",
       "    .dataframe tbody tr th {\n",
       "        vertical-align: top;\n",
       "    }\n",
       "\n",
       "    .dataframe thead th {\n",
       "        text-align: right;\n",
       "    }\n",
       "</style>\n",
       "<table border=\"1\" class=\"dataframe\">\n",
       "  <thead>\n",
       "    <tr style=\"text-align: right;\">\n",
       "      <th></th>\n",
       "      <th>device_id</th>\n",
       "      <th>mean_bmi</th>\n",
       "      <th>mean_active_heartrate</th>\n",
       "      <th>mean_resting_heartrate</th>\n",
       "      <th>mean_vo2</th>\n",
       "      <th>mean_steps</th>\n",
       "      <th>lifestyle</th>\n",
       "    </tr>\n",
       "  </thead>\n",
       "  <tbody>\n",
       "    <tr>\n",
       "      <th>1722</th>\n",
       "      <td>0003a6b8-e48b-11ea-8204-0242ac110002</td>\n",
       "      <td>22.398064</td>\n",
       "      <td>139.434875</td>\n",
       "      <td>82.683797</td>\n",
       "      <td>20.994012</td>\n",
       "      <td>5171.495890</td>\n",
       "      <td>Sedentary</td>\n",
       "    </tr>\n",
       "    <tr>\n",
       "      <th>696</th>\n",
       "      <td>0007a88a-e48b-11ea-8204-0242ac110002</td>\n",
       "      <td>25.150813</td>\n",
       "      <td>127.057153</td>\n",
       "      <td>77.732942</td>\n",
       "      <td>25.527475</td>\n",
       "      <td>7115.591781</td>\n",
       "      <td>Weight Trainer</td>\n",
       "    </tr>\n",
       "    <tr>\n",
       "      <th>1574</th>\n",
       "      <td>000b9c56-e48b-11ea-8204-0242ac110002</td>\n",
       "      <td>19.148256</td>\n",
       "      <td>147.315731</td>\n",
       "      <td>86.511629</td>\n",
       "      <td>19.448407</td>\n",
       "      <td>7257.693151</td>\n",
       "      <td>Weight Trainer</td>\n",
       "    </tr>\n",
       "    <tr>\n",
       "      <th>1439</th>\n",
       "      <td>000f916c-e48b-11ea-8204-0242ac110002</td>\n",
       "      <td>24.240376</td>\n",
       "      <td>129.577004</td>\n",
       "      <td>77.550541</td>\n",
       "      <td>21.401302</td>\n",
       "      <td>7129.690411</td>\n",
       "      <td>Weight Trainer</td>\n",
       "    </tr>\n",
       "    <tr>\n",
       "      <th>2857</th>\n",
       "      <td>00138330-e48b-11ea-8204-0242ac110002</td>\n",
       "      <td>30.726596</td>\n",
       "      <td>136.502687</td>\n",
       "      <td>68.933106</td>\n",
       "      <td>28.855230</td>\n",
       "      <td>6958.378082</td>\n",
       "      <td>Weight Trainer</td>\n",
       "    </tr>\n",
       "    <tr>\n",
       "      <th>...</th>\n",
       "      <td>...</td>\n",
       "      <td>...</td>\n",
       "      <td>...</td>\n",
       "      <td>...</td>\n",
       "      <td>...</td>\n",
       "      <td>...</td>\n",
       "      <td>...</td>\n",
       "    </tr>\n",
       "    <tr>\n",
       "      <th>557</th>\n",
       "      <td>fff00e82-e48a-11ea-8204-0242ac110002</td>\n",
       "      <td>21.432227</td>\n",
       "      <td>140.614679</td>\n",
       "      <td>82.056086</td>\n",
       "      <td>24.162064</td>\n",
       "      <td>7283.430137</td>\n",
       "      <td>Weight Trainer</td>\n",
       "    </tr>\n",
       "    <tr>\n",
       "      <th>2082</th>\n",
       "      <td>fff403a2-e48a-11ea-8204-0242ac110002</td>\n",
       "      <td>21.432304</td>\n",
       "      <td>144.578567</td>\n",
       "      <td>90.113362</td>\n",
       "      <td>18.346046</td>\n",
       "      <td>7110.720548</td>\n",
       "      <td>Weight Trainer</td>\n",
       "    </tr>\n",
       "    <tr>\n",
       "      <th>397</th>\n",
       "      <td>fff7e742-e48a-11ea-8204-0242ac110002</td>\n",
       "      <td>21.598411</td>\n",
       "      <td>148.378812</td>\n",
       "      <td>81.907737</td>\n",
       "      <td>22.797690</td>\n",
       "      <td>5153.890411</td>\n",
       "      <td>Sedentary</td>\n",
       "    </tr>\n",
       "    <tr>\n",
       "      <th>2127</th>\n",
       "      <td>fffbc5d8-e48a-11ea-8204-0242ac110002</td>\n",
       "      <td>26.134180</td>\n",
       "      <td>140.814891</td>\n",
       "      <td>69.910868</td>\n",
       "      <td>26.965661</td>\n",
       "      <td>5167.194521</td>\n",
       "      <td>Sedentary</td>\n",
       "    </tr>\n",
       "    <tr>\n",
       "      <th>188</th>\n",
       "      <td>ffffb0d0-e48a-11ea-8204-0242ac110002</td>\n",
       "      <td>15.751330</td>\n",
       "      <td>139.567329</td>\n",
       "      <td>97.982102</td>\n",
       "      <td>12.427259</td>\n",
       "      <td>7559.284932</td>\n",
       "      <td>Weight Trainer</td>\n",
       "    </tr>\n",
       "  </tbody>\n",
       "</table>\n",
       "<p>3000 rows × 7 columns</p>\n",
       "</div>"
      ]
     },
     "metadata": {
      "application/vnd.databricks.v1+output": {
       "addedWidgets": {},
       "arguments": {},
       "data": "<div>\n<style scoped>\n    .dataframe tbody tr th:only-of-type {\n        vertical-align: middle;\n    }\n\n    .dataframe tbody tr th {\n        vertical-align: top;\n    }\n\n    .dataframe thead th {\n        text-align: right;\n    }\n</style>\n<table border=\"1\" class=\"dataframe\">\n  <thead>\n    <tr style=\"text-align: right;\">\n      <th></th>\n      <th>device_id</th>\n      <th>mean_bmi</th>\n      <th>mean_active_heartrate</th>\n      <th>mean_resting_heartrate</th>\n      <th>mean_vo2</th>\n      <th>mean_steps</th>\n      <th>lifestyle</th>\n    </tr>\n  </thead>\n  <tbody>\n    <tr>\n      <th>1722</th>\n      <td>0003a6b8-e48b-11ea-8204-0242ac110002</td>\n      <td>22.398064</td>\n      <td>139.434875</td>\n      <td>82.683797</td>\n      <td>20.994012</td>\n      <td>5171.495890</td>\n      <td>Sedentary</td>\n    </tr>\n    <tr>\n      <th>696</th>\n      <td>0007a88a-e48b-11ea-8204-0242ac110002</td>\n      <td>25.150813</td>\n      <td>127.057153</td>\n      <td>77.732942</td>\n      <td>25.527475</td>\n      <td>7115.591781</td>\n      <td>Weight Trainer</td>\n    </tr>\n    <tr>\n      <th>1574</th>\n      <td>000b9c56-e48b-11ea-8204-0242ac110002</td>\n      <td>19.148256</td>\n      <td>147.315731</td>\n      <td>86.511629</td>\n      <td>19.448407</td>\n      <td>7257.693151</td>\n      <td>Weight Trainer</td>\n    </tr>\n    <tr>\n      <th>1439</th>\n      <td>000f916c-e48b-11ea-8204-0242ac110002</td>\n      <td>24.240376</td>\n      <td>129.577004</td>\n      <td>77.550541</td>\n      <td>21.401302</td>\n      <td>7129.690411</td>\n      <td>Weight Trainer</td>\n    </tr>\n    <tr>\n      <th>2857</th>\n      <td>00138330-e48b-11ea-8204-0242ac110002</td>\n      <td>30.726596</td>\n      <td>136.502687</td>\n      <td>68.933106</td>\n      <td>28.855230</td>\n      <td>6958.378082</td>\n      <td>Weight Trainer</td>\n    </tr>\n    <tr>\n      <th>...</th>\n      <td>...</td>\n      <td>...</td>\n      <td>...</td>\n      <td>...</td>\n      <td>...</td>\n      <td>...</td>\n      <td>...</td>\n    </tr>\n    <tr>\n      <th>557</th>\n      <td>fff00e82-e48a-11ea-8204-0242ac110002</td>\n      <td>21.432227</td>\n      <td>140.614679</td>\n      <td>82.056086</td>\n      <td>24.162064</td>\n      <td>7283.430137</td>\n      <td>Weight Trainer</td>\n    </tr>\n    <tr>\n      <th>2082</th>\n      <td>fff403a2-e48a-11ea-8204-0242ac110002</td>\n      <td>21.432304</td>\n      <td>144.578567</td>\n      <td>90.113362</td>\n      <td>18.346046</td>\n      <td>7110.720548</td>\n      <td>Weight Trainer</td>\n    </tr>\n    <tr>\n      <th>397</th>\n      <td>fff7e742-e48a-11ea-8204-0242ac110002</td>\n      <td>21.598411</td>\n      <td>148.378812</td>\n      <td>81.907737</td>\n      <td>22.797690</td>\n      <td>5153.890411</td>\n      <td>Sedentary</td>\n    </tr>\n    <tr>\n      <th>2127</th>\n      <td>fffbc5d8-e48a-11ea-8204-0242ac110002</td>\n      <td>26.134180</td>\n      <td>140.814891</td>\n      <td>69.910868</td>\n      <td>26.965661</td>\n      <td>5167.194521</td>\n      <td>Sedentary</td>\n    </tr>\n    <tr>\n      <th>188</th>\n      <td>ffffb0d0-e48a-11ea-8204-0242ac110002</td>\n      <td>15.751330</td>\n      <td>139.567329</td>\n      <td>97.982102</td>\n      <td>12.427259</td>\n      <td>7559.284932</td>\n      <td>Weight Trainer</td>\n    </tr>\n  </tbody>\n</table>\n<p>3000 rows × 7 columns</p>\n</div>",
       "datasetInfos": [],
       "metadata": {},
       "removedWidgets": [],
       "textData": null,
       "type": "htmlSandbox"
      }
     },
     "output_type": "display_data"
    }
   ],
   "source": [
    "import pandas as pd\n",
    "ht_agg_spark_df = spark.read.table(\"ht_agg\")\n",
    "ht_agg_pandas_df = ht_agg_spark_df.toPandas()\n",
    "ht_agg_pandas_df.sort_values(by=['device_id'])"
   ]
  },
  {
   "cell_type": "code",
   "execution_count": 0,
   "metadata": {
    "application/vnd.databricks.v1+cell": {
     "cellMetadata": {
      "byteLimit": 2048000,
      "rowLimit": 10000
     },
     "inputWidgets": {},
     "nuid": "05d522db-4ab9-4acc-a41a-3509f78c93cc",
     "showTitle": false,
     "title": ""
    }
   },
   "outputs": [
    {
     "output_type": "display_data",
     "data": {
      "text/html": [
       "<div>\n",
       "<style scoped>\n",
       "    .dataframe tbody tr th:only-of-type {\n",
       "        vertical-align: middle;\n",
       "    }\n",
       "\n",
       "    .dataframe tbody tr th {\n",
       "        vertical-align: top;\n",
       "    }\n",
       "\n",
       "    .dataframe thead th {\n",
       "        text-align: right;\n",
       "    }\n",
       "</style>\n",
       "<table border=\"1\" class=\"dataframe\">\n",
       "  <thead>\n",
       "    <tr style=\"text-align: right;\">\n",
       "      <th></th>\n",
       "      <th>device_id</th>\n",
       "      <th>first_name</th>\n",
       "      <th>last_name</th>\n",
       "      <th>lifestyle</th>\n",
       "      <th>country</th>\n",
       "    </tr>\n",
       "  </thead>\n",
       "  <tbody>\n",
       "    <tr>\n",
       "      <th>844</th>\n",
       "      <td>0003a6b8-e48b-11ea-8204-0242ac110002</td>\n",
       "      <td>Sydney</td>\n",
       "      <td>Pickett</td>\n",
       "      <td>Sedentary</td>\n",
       "      <td>United States</td>\n",
       "    </tr>\n",
       "    <tr>\n",
       "      <th>264</th>\n",
       "      <td>0007a88a-e48b-11ea-8204-0242ac110002</td>\n",
       "      <td>Echo</td>\n",
       "      <td>Preston</td>\n",
       "      <td>Weight Trainer</td>\n",
       "      <td>United States</td>\n",
       "    </tr>\n",
       "    <tr>\n",
       "      <th>1046</th>\n",
       "      <td>000b9c56-e48b-11ea-8204-0242ac110002</td>\n",
       "      <td>Camilla</td>\n",
       "      <td>Bishop</td>\n",
       "      <td>Weight Trainer</td>\n",
       "      <td>United States</td>\n",
       "    </tr>\n",
       "    <tr>\n",
       "      <th>2175</th>\n",
       "      <td>000f916c-e48b-11ea-8204-0242ac110002</td>\n",
       "      <td>Melanie</td>\n",
       "      <td>William</td>\n",
       "      <td>Weight Trainer</td>\n",
       "      <td>United States</td>\n",
       "    </tr>\n",
       "    <tr>\n",
       "      <th>2821</th>\n",
       "      <td>00138330-e48b-11ea-8204-0242ac110002</td>\n",
       "      <td>Courtney</td>\n",
       "      <td>Church</td>\n",
       "      <td>Weight Trainer</td>\n",
       "      <td>United States</td>\n",
       "    </tr>\n",
       "    <tr>\n",
       "      <th>...</th>\n",
       "      <td>...</td>\n",
       "      <td>...</td>\n",
       "      <td>...</td>\n",
       "      <td>...</td>\n",
       "      <td>...</td>\n",
       "    </tr>\n",
       "    <tr>\n",
       "      <th>225</th>\n",
       "      <td>fff00e82-e48a-11ea-8204-0242ac110002</td>\n",
       "      <td>Teagan</td>\n",
       "      <td>Bruce</td>\n",
       "      <td>Weight Trainer</td>\n",
       "      <td>United States</td>\n",
       "    </tr>\n",
       "    <tr>\n",
       "      <th>709</th>\n",
       "      <td>fff403a2-e48a-11ea-8204-0242ac110002</td>\n",
       "      <td>Kylynn</td>\n",
       "      <td>Long</td>\n",
       "      <td>Weight Trainer</td>\n",
       "      <td>United States</td>\n",
       "    </tr>\n",
       "    <tr>\n",
       "      <th>217</th>\n",
       "      <td>fff7e742-e48a-11ea-8204-0242ac110002</td>\n",
       "      <td>Anika</td>\n",
       "      <td>Mcgee</td>\n",
       "      <td>Sedentary</td>\n",
       "      <td>United States</td>\n",
       "    </tr>\n",
       "    <tr>\n",
       "      <th>419</th>\n",
       "      <td>fffbc5d8-e48a-11ea-8204-0242ac110002</td>\n",
       "      <td>Dacey</td>\n",
       "      <td>Vinson</td>\n",
       "      <td>Sedentary</td>\n",
       "      <td>United States</td>\n",
       "    </tr>\n",
       "    <tr>\n",
       "      <th>1674</th>\n",
       "      <td>ffffb0d0-e48a-11ea-8204-0242ac110002</td>\n",
       "      <td>Hedy</td>\n",
       "      <td>Leon</td>\n",
       "      <td>Weight Trainer</td>\n",
       "      <td>United States</td>\n",
       "    </tr>\n",
       "  </tbody>\n",
       "</table>\n",
       "<p>3000 rows × 5 columns</p>\n",
       "</div>"
      ]
     },
     "metadata": {
      "application/vnd.databricks.v1+output": {
       "addedWidgets": {},
       "arguments": {},
       "data": "<div>\n<style scoped>\n    .dataframe tbody tr th:only-of-type {\n        vertical-align: middle;\n    }\n\n    .dataframe tbody tr th {\n        vertical-align: top;\n    }\n\n    .dataframe thead th {\n        text-align: right;\n    }\n</style>\n<table border=\"1\" class=\"dataframe\">\n  <thead>\n    <tr style=\"text-align: right;\">\n      <th></th>\n      <th>device_id</th>\n      <th>first_name</th>\n      <th>last_name</th>\n      <th>lifestyle</th>\n      <th>country</th>\n    </tr>\n  </thead>\n  <tbody>\n    <tr>\n      <th>844</th>\n      <td>0003a6b8-e48b-11ea-8204-0242ac110002</td>\n      <td>Sydney</td>\n      <td>Pickett</td>\n      <td>Sedentary</td>\n      <td>United States</td>\n    </tr>\n    <tr>\n      <th>264</th>\n      <td>0007a88a-e48b-11ea-8204-0242ac110002</td>\n      <td>Echo</td>\n      <td>Preston</td>\n      <td>Weight Trainer</td>\n      <td>United States</td>\n    </tr>\n    <tr>\n      <th>1046</th>\n      <td>000b9c56-e48b-11ea-8204-0242ac110002</td>\n      <td>Camilla</td>\n      <td>Bishop</td>\n      <td>Weight Trainer</td>\n      <td>United States</td>\n    </tr>\n    <tr>\n      <th>2175</th>\n      <td>000f916c-e48b-11ea-8204-0242ac110002</td>\n      <td>Melanie</td>\n      <td>William</td>\n      <td>Weight Trainer</td>\n      <td>United States</td>\n    </tr>\n    <tr>\n      <th>2821</th>\n      <td>00138330-e48b-11ea-8204-0242ac110002</td>\n      <td>Courtney</td>\n      <td>Church</td>\n      <td>Weight Trainer</td>\n      <td>United States</td>\n    </tr>\n    <tr>\n      <th>...</th>\n      <td>...</td>\n      <td>...</td>\n      <td>...</td>\n      <td>...</td>\n      <td>...</td>\n    </tr>\n    <tr>\n      <th>225</th>\n      <td>fff00e82-e48a-11ea-8204-0242ac110002</td>\n      <td>Teagan</td>\n      <td>Bruce</td>\n      <td>Weight Trainer</td>\n      <td>United States</td>\n    </tr>\n    <tr>\n      <th>709</th>\n      <td>fff403a2-e48a-11ea-8204-0242ac110002</td>\n      <td>Kylynn</td>\n      <td>Long</td>\n      <td>Weight Trainer</td>\n      <td>United States</td>\n    </tr>\n    <tr>\n      <th>217</th>\n      <td>fff7e742-e48a-11ea-8204-0242ac110002</td>\n      <td>Anika</td>\n      <td>Mcgee</td>\n      <td>Sedentary</td>\n      <td>United States</td>\n    </tr>\n    <tr>\n      <th>419</th>\n      <td>fffbc5d8-e48a-11ea-8204-0242ac110002</td>\n      <td>Dacey</td>\n      <td>Vinson</td>\n      <td>Sedentary</td>\n      <td>United States</td>\n    </tr>\n    <tr>\n      <th>1674</th>\n      <td>ffffb0d0-e48a-11ea-8204-0242ac110002</td>\n      <td>Hedy</td>\n      <td>Leon</td>\n      <td>Weight Trainer</td>\n      <td>United States</td>\n    </tr>\n  </tbody>\n</table>\n<p>3000 rows × 5 columns</p>\n</div>",
       "datasetInfos": [],
       "metadata": {},
       "removedWidgets": [],
       "textData": null,
       "type": "htmlSandbox"
      }
     },
     "output_type": "display_data"
    }
   ],
   "source": [
    "ht_users_pandas_df.sort_values(by=['device_id'])"
   ]
  },
  {
   "cell_type": "code",
   "execution_count": 0,
   "metadata": {
    "application/vnd.databricks.v1+cell": {
     "cellMetadata": {
      "byteLimit": 2048000,
      "rowLimit": 10000
     },
     "inputWidgets": {},
     "nuid": "86184c1f-6034-45ce-9ac7-525f8cf2ad80",
     "showTitle": false,
     "title": ""
    }
   },
   "outputs": [
    {
     "output_type": "display_data",
     "data": {
      "text/html": [
       "<div>\n",
       "<style scoped>\n",
       "    .dataframe tbody tr th:only-of-type {\n",
       "        vertical-align: middle;\n",
       "    }\n",
       "\n",
       "    .dataframe tbody tr th {\n",
       "        vertical-align: top;\n",
       "    }\n",
       "\n",
       "    .dataframe thead th {\n",
       "        text-align: right;\n",
       "    }\n",
       "</style>\n",
       "<table border=\"1\" class=\"dataframe\">\n",
       "  <thead>\n",
       "    <tr style=\"text-align: right;\">\n",
       "      <th></th>\n",
       "      <th>device_id</th>\n",
       "      <th>first_name</th>\n",
       "      <th>last_name</th>\n",
       "      <th>lifestyle</th>\n",
       "      <th>country</th>\n",
       "      <th>mean_bmi</th>\n",
       "      <th>mean_active_heartrate</th>\n",
       "      <th>mean_resting_heartrate</th>\n",
       "      <th>mean_vo2</th>\n",
       "      <th>mean_steps</th>\n",
       "    </tr>\n",
       "  </thead>\n",
       "  <tbody>\n",
       "    <tr>\n",
       "      <th>844</th>\n",
       "      <td>0003a6b8-e48b-11ea-8204-0242ac110002</td>\n",
       "      <td>Sydney</td>\n",
       "      <td>Pickett</td>\n",
       "      <td>Sedentary</td>\n",
       "      <td>United States</td>\n",
       "      <td>22.398064</td>\n",
       "      <td>139.434875</td>\n",
       "      <td>82.683797</td>\n",
       "      <td>20.994012</td>\n",
       "      <td>5171.495890</td>\n",
       "    </tr>\n",
       "    <tr>\n",
       "      <th>264</th>\n",
       "      <td>0007a88a-e48b-11ea-8204-0242ac110002</td>\n",
       "      <td>Echo</td>\n",
       "      <td>Preston</td>\n",
       "      <td>Weight Trainer</td>\n",
       "      <td>United States</td>\n",
       "      <td>25.150813</td>\n",
       "      <td>127.057153</td>\n",
       "      <td>77.732942</td>\n",
       "      <td>25.527475</td>\n",
       "      <td>7115.591781</td>\n",
       "    </tr>\n",
       "    <tr>\n",
       "      <th>1046</th>\n",
       "      <td>000b9c56-e48b-11ea-8204-0242ac110002</td>\n",
       "      <td>Camilla</td>\n",
       "      <td>Bishop</td>\n",
       "      <td>Weight Trainer</td>\n",
       "      <td>United States</td>\n",
       "      <td>19.148256</td>\n",
       "      <td>147.315731</td>\n",
       "      <td>86.511629</td>\n",
       "      <td>19.448407</td>\n",
       "      <td>7257.693151</td>\n",
       "    </tr>\n",
       "    <tr>\n",
       "      <th>2175</th>\n",
       "      <td>000f916c-e48b-11ea-8204-0242ac110002</td>\n",
       "      <td>Melanie</td>\n",
       "      <td>William</td>\n",
       "      <td>Weight Trainer</td>\n",
       "      <td>United States</td>\n",
       "      <td>24.240376</td>\n",
       "      <td>129.577004</td>\n",
       "      <td>77.550541</td>\n",
       "      <td>21.401302</td>\n",
       "      <td>7129.690411</td>\n",
       "    </tr>\n",
       "    <tr>\n",
       "      <th>2821</th>\n",
       "      <td>00138330-e48b-11ea-8204-0242ac110002</td>\n",
       "      <td>Courtney</td>\n",
       "      <td>Church</td>\n",
       "      <td>Weight Trainer</td>\n",
       "      <td>United States</td>\n",
       "      <td>30.726596</td>\n",
       "      <td>136.502687</td>\n",
       "      <td>68.933106</td>\n",
       "      <td>28.855230</td>\n",
       "      <td>6958.378082</td>\n",
       "    </tr>\n",
       "    <tr>\n",
       "      <th>...</th>\n",
       "      <td>...</td>\n",
       "      <td>...</td>\n",
       "      <td>...</td>\n",
       "      <td>...</td>\n",
       "      <td>...</td>\n",
       "      <td>...</td>\n",
       "      <td>...</td>\n",
       "      <td>...</td>\n",
       "      <td>...</td>\n",
       "      <td>...</td>\n",
       "    </tr>\n",
       "    <tr>\n",
       "      <th>225</th>\n",
       "      <td>fff00e82-e48a-11ea-8204-0242ac110002</td>\n",
       "      <td>Teagan</td>\n",
       "      <td>Bruce</td>\n",
       "      <td>Weight Trainer</td>\n",
       "      <td>United States</td>\n",
       "      <td>21.432227</td>\n",
       "      <td>140.614679</td>\n",
       "      <td>82.056086</td>\n",
       "      <td>24.162064</td>\n",
       "      <td>7283.430137</td>\n",
       "    </tr>\n",
       "    <tr>\n",
       "      <th>709</th>\n",
       "      <td>fff403a2-e48a-11ea-8204-0242ac110002</td>\n",
       "      <td>Kylynn</td>\n",
       "      <td>Long</td>\n",
       "      <td>Weight Trainer</td>\n",
       "      <td>United States</td>\n",
       "      <td>21.432304</td>\n",
       "      <td>144.578567</td>\n",
       "      <td>90.113362</td>\n",
       "      <td>18.346046</td>\n",
       "      <td>7110.720548</td>\n",
       "    </tr>\n",
       "    <tr>\n",
       "      <th>217</th>\n",
       "      <td>fff7e742-e48a-11ea-8204-0242ac110002</td>\n",
       "      <td>Anika</td>\n",
       "      <td>Mcgee</td>\n",
       "      <td>Sedentary</td>\n",
       "      <td>United States</td>\n",
       "      <td>21.598411</td>\n",
       "      <td>148.378812</td>\n",
       "      <td>81.907737</td>\n",
       "      <td>22.797690</td>\n",
       "      <td>5153.890411</td>\n",
       "    </tr>\n",
       "    <tr>\n",
       "      <th>419</th>\n",
       "      <td>fffbc5d8-e48a-11ea-8204-0242ac110002</td>\n",
       "      <td>Dacey</td>\n",
       "      <td>Vinson</td>\n",
       "      <td>Sedentary</td>\n",
       "      <td>United States</td>\n",
       "      <td>26.134180</td>\n",
       "      <td>140.814891</td>\n",
       "      <td>69.910868</td>\n",
       "      <td>26.965661</td>\n",
       "      <td>5167.194521</td>\n",
       "    </tr>\n",
       "    <tr>\n",
       "      <th>1674</th>\n",
       "      <td>ffffb0d0-e48a-11ea-8204-0242ac110002</td>\n",
       "      <td>Hedy</td>\n",
       "      <td>Leon</td>\n",
       "      <td>Weight Trainer</td>\n",
       "      <td>United States</td>\n",
       "      <td>15.751330</td>\n",
       "      <td>139.567329</td>\n",
       "      <td>97.982102</td>\n",
       "      <td>12.427259</td>\n",
       "      <td>7559.284932</td>\n",
       "    </tr>\n",
       "  </tbody>\n",
       "</table>\n",
       "<p>3000 rows × 10 columns</p>\n",
       "</div>"
      ]
     },
     "metadata": {
      "application/vnd.databricks.v1+output": {
       "addedWidgets": {},
       "arguments": {},
       "data": "<div>\n<style scoped>\n    .dataframe tbody tr th:only-of-type {\n        vertical-align: middle;\n    }\n\n    .dataframe tbody tr th {\n        vertical-align: top;\n    }\n\n    .dataframe thead th {\n        text-align: right;\n    }\n</style>\n<table border=\"1\" class=\"dataframe\">\n  <thead>\n    <tr style=\"text-align: right;\">\n      <th></th>\n      <th>device_id</th>\n      <th>first_name</th>\n      <th>last_name</th>\n      <th>lifestyle</th>\n      <th>country</th>\n      <th>mean_bmi</th>\n      <th>mean_active_heartrate</th>\n      <th>mean_resting_heartrate</th>\n      <th>mean_vo2</th>\n      <th>mean_steps</th>\n    </tr>\n  </thead>\n  <tbody>\n    <tr>\n      <th>844</th>\n      <td>0003a6b8-e48b-11ea-8204-0242ac110002</td>\n      <td>Sydney</td>\n      <td>Pickett</td>\n      <td>Sedentary</td>\n      <td>United States</td>\n      <td>22.398064</td>\n      <td>139.434875</td>\n      <td>82.683797</td>\n      <td>20.994012</td>\n      <td>5171.495890</td>\n    </tr>\n    <tr>\n      <th>264</th>\n      <td>0007a88a-e48b-11ea-8204-0242ac110002</td>\n      <td>Echo</td>\n      <td>Preston</td>\n      <td>Weight Trainer</td>\n      <td>United States</td>\n      <td>25.150813</td>\n      <td>127.057153</td>\n      <td>77.732942</td>\n      <td>25.527475</td>\n      <td>7115.591781</td>\n    </tr>\n    <tr>\n      <th>1046</th>\n      <td>000b9c56-e48b-11ea-8204-0242ac110002</td>\n      <td>Camilla</td>\n      <td>Bishop</td>\n      <td>Weight Trainer</td>\n      <td>United States</td>\n      <td>19.148256</td>\n      <td>147.315731</td>\n      <td>86.511629</td>\n      <td>19.448407</td>\n      <td>7257.693151</td>\n    </tr>\n    <tr>\n      <th>2175</th>\n      <td>000f916c-e48b-11ea-8204-0242ac110002</td>\n      <td>Melanie</td>\n      <td>William</td>\n      <td>Weight Trainer</td>\n      <td>United States</td>\n      <td>24.240376</td>\n      <td>129.577004</td>\n      <td>77.550541</td>\n      <td>21.401302</td>\n      <td>7129.690411</td>\n    </tr>\n    <tr>\n      <th>2821</th>\n      <td>00138330-e48b-11ea-8204-0242ac110002</td>\n      <td>Courtney</td>\n      <td>Church</td>\n      <td>Weight Trainer</td>\n      <td>United States</td>\n      <td>30.726596</td>\n      <td>136.502687</td>\n      <td>68.933106</td>\n      <td>28.855230</td>\n      <td>6958.378082</td>\n    </tr>\n    <tr>\n      <th>...</th>\n      <td>...</td>\n      <td>...</td>\n      <td>...</td>\n      <td>...</td>\n      <td>...</td>\n      <td>...</td>\n      <td>...</td>\n      <td>...</td>\n      <td>...</td>\n      <td>...</td>\n    </tr>\n    <tr>\n      <th>225</th>\n      <td>fff00e82-e48a-11ea-8204-0242ac110002</td>\n      <td>Teagan</td>\n      <td>Bruce</td>\n      <td>Weight Trainer</td>\n      <td>United States</td>\n      <td>21.432227</td>\n      <td>140.614679</td>\n      <td>82.056086</td>\n      <td>24.162064</td>\n      <td>7283.430137</td>\n    </tr>\n    <tr>\n      <th>709</th>\n      <td>fff403a2-e48a-11ea-8204-0242ac110002</td>\n      <td>Kylynn</td>\n      <td>Long</td>\n      <td>Weight Trainer</td>\n      <td>United States</td>\n      <td>21.432304</td>\n      <td>144.578567</td>\n      <td>90.113362</td>\n      <td>18.346046</td>\n      <td>7110.720548</td>\n    </tr>\n    <tr>\n      <th>217</th>\n      <td>fff7e742-e48a-11ea-8204-0242ac110002</td>\n      <td>Anika</td>\n      <td>Mcgee</td>\n      <td>Sedentary</td>\n      <td>United States</td>\n      <td>21.598411</td>\n      <td>148.378812</td>\n      <td>81.907737</td>\n      <td>22.797690</td>\n      <td>5153.890411</td>\n    </tr>\n    <tr>\n      <th>419</th>\n      <td>fffbc5d8-e48a-11ea-8204-0242ac110002</td>\n      <td>Dacey</td>\n      <td>Vinson</td>\n      <td>Sedentary</td>\n      <td>United States</td>\n      <td>26.134180</td>\n      <td>140.814891</td>\n      <td>69.910868</td>\n      <td>26.965661</td>\n      <td>5167.194521</td>\n    </tr>\n    <tr>\n      <th>1674</th>\n      <td>ffffb0d0-e48a-11ea-8204-0242ac110002</td>\n      <td>Hedy</td>\n      <td>Leon</td>\n      <td>Weight Trainer</td>\n      <td>United States</td>\n      <td>15.751330</td>\n      <td>139.567329</td>\n      <td>97.982102</td>\n      <td>12.427259</td>\n      <td>7559.284932</td>\n    </tr>\n  </tbody>\n</table>\n<p>3000 rows × 10 columns</p>\n</div>",
       "datasetInfos": [],
       "metadata": {},
       "removedWidgets": [],
       "textData": null,
       "type": "htmlSandbox"
      }
     },
     "output_type": "display_data"
    }
   ],
   "source": [
    "merged_df = pd.merge(ht_users_pandas_df, ht_agg_pandas_df)\n",
    "merged_df.sort_values(by=['device_id'])"
   ]
  },
  {
   "cell_type": "markdown",
   "metadata": {
    "application/vnd.databricks.v1+cell": {
     "cellMetadata": {},
     "inputWidgets": {},
     "nuid": "82b10ca1-e32f-4be9-a001-88e8f2148b4f",
     "showTitle": false,
     "title": ""
    }
   },
   "source": [
    "## Exercise 6\n",
    "\n",
    "Summary: \n",
    "* Prepare your modeling data. \n",
    "* Create a customer-level modeling table with the correct output variable and features. \n",
    "* Finally, split your data between training and test sets. Make sure this split aligns with that of your baseline solution.\n",
    "\n",
    "<img alt=\"Hint\" title=\"Hint\" style=\"vertical-align: text-bottom; position: relative; height:1.75em; top:0.3em\" src=\"https://files.training.databricks.com/static/images/icon-light-bulb.svg\"/>&nbsp;**Hint:** Consider how to make the data split reproducible."
   ]
  },
  {
   "cell_type": "code",
   "execution_count": 0,
   "metadata": {
    "application/vnd.databricks.v1+cell": {
     "cellMetadata": {},
     "inputWidgets": {},
     "nuid": "1b2b1444-889c-41b5-9ac4-9bfc0507cc3f",
     "showTitle": false,
     "title": ""
    }
   },
   "outputs": [],
   "source": [
    "from sklearn.preprocessing import LabelEncoder\n",
    "\n",
    "X_1 = merged_df[['mean_active_heartrate', 'mean_resting_heartrate']]\n",
    "X_2 = merged_df[['mean_steps']]\n",
    "X_3 = merged_df[['mean_bmi', 'mean_steps']]\n",
    "X_4 = merged_df[['mean_active_heartrate', 'mean_bmi', 'mean_vo2', 'mean_resting_heartrate']]\n",
    "\n",
    "le = LabelEncoder()\n",
    "lifestyle = merged_df['lifestyle']\n",
    "le.fit(lifestyle)\n",
    "y = le.transform(lifestyle)\n",
    "\n",
    "\n",
    "X_1_train, X_1_test, y_train, y_test = train_test_split(X_1, y, test_size = 0.2, random_state = 42)\n",
    "X_2_train, X_2_test, y_train, y_test = train_test_split(X_2, y, test_size = 0.2, random_state = 42)\n",
    "X_3_train, X_3_test, y_train, y_test = train_test_split(X_3, y, test_size = 0.2, random_state = 42)\n",
    "X_4_train, X_4_test, y_train, y_test = train_test_split(X_4, y, test_size = 0.2, random_state = 42)"
   ]
  },
  {
   "cell_type": "code",
   "execution_count": 0,
   "metadata": {
    "application/vnd.databricks.v1+cell": {
     "cellMetadata": {
      "byteLimit": 2048000,
      "rowLimit": 10000
     },
     "inputWidgets": {},
     "nuid": "80e20cb9-70f5-480a-bca7-674de75ce871",
     "showTitle": false,
     "title": ""
    }
   },
   "outputs": [],
   "source": [
    "from sklearn.model_selection import train_test_split\n",
    "from sklearn.preprocessing import LabelEncoder\n",
    "\n",
    "X_1 = merged_df[['mean_active_heartrate', 'mean_resting_heartrate']]\n",
    "X_2 = merged_df[['mean_steps']]\n",
    "X_3 = merged_df[['mean_bmi', 'mean_steps']]\n",
    "X_4 = merged_df[['mean_active_heartrate', 'mean_bmi', 'mean_vo2', 'mean_resting_heartrate']]\n",
    "y = merged_df['lifestyle']\n",
    "\n",
    "X_1_train, X_1_test, y_train, y_test = train_test_split(X_1, y, test_size = 0.2, random_state = 42)\n",
    "X_2_train, X_2_test, y_train, y_test = train_test_split(X_2, y, test_size = 0.2, random_state = 42)\n",
    "X_3_train, X_3_test, y_train, y_test = train_test_split(X_3, y, test_size = 0.2, random_state = 42)\n",
    "X_4_train, X_4_test, y_train, y_test = train_test_split(X_4, y, test_size = 0.2, random_state = 42)"
   ]
  },
  {
   "cell_type": "markdown",
   "metadata": {
    "application/vnd.databricks.v1+cell": {
     "cellMetadata": {},
     "inputWidgets": {},
     "nuid": "3b62cfe8-1f1e-4d50-8ec0-4b564bbae7a2",
     "showTitle": false,
     "title": ""
    }
   },
   "source": [
    "## Exercise 7\n",
    "\n",
    "Summary: \n",
    "* Build the model specified in your answer to Exercise 4. \n",
    "* Be sure to use an evaluation metric that aligns with your specified objective.\n",
    "\n",
    "<img alt=\"Hint\" title=\"Hint\" style=\"vertical-align: text-bottom; position: relative; height:1.75em; top:0.3em\" src=\"https://files.training.databricks.com/static/images/icon-light-bulb.svg\"/>&nbsp;**Hint:** This evaluation metric should align with the one used in your baseline solution."
   ]
  },
  {
   "cell_type": "code",
   "execution_count": 0,
   "metadata": {
    "application/vnd.databricks.v1+cell": {
     "cellMetadata": {
      "byteLimit": 2048000,
      "rowLimit": 10000
     },
     "inputWidgets": {},
     "nuid": "57987e06-b05a-4c80-8b3d-2956e303eac4",
     "showTitle": false,
     "title": ""
    }
   },
   "outputs": [],
   "source": [
    "from sklearn.tree import DecisionTreeClassifier\n",
    "from sklearn.metrics import accuracy_score\n",
    "\n",
    "\n",
    "#Create Decision Trees\n",
    "dt_1 = DecisionTreeClassifier()\n",
    "dt_2 = DecisionTreeClassifier()\n",
    "dt_3 = DecisionTreeClassifier()\n",
    "dt_4 = DecisionTreeClassifier()\n",
    "\n",
    "#Train Decision Trees\n",
    "dt_1.fit(X_1_train, y_train)\n",
    "dt_2.fit(X_2_train, y_train)\n",
    "dt_3.fit(X_3_train, y_train)\n",
    "dt_4.fit(X_4_train, y_train)\n",
    "\n",
    "#Generate predictions\n",
    "y_train_1_predicted = dt_1.predict(X_1_train)\n",
    "y_test_1_predicted = dt_1.predict(X_1_test)\n",
    "y_train_2_predicted = dt_2.predict(X_2_train)\n",
    "y_test_2_predicted = dt_2.predict(X_2_test)\n",
    "y_train_3_predicted = dt_3.predict(X_3_train)\n",
    "y_test_3_predicted = dt_3.predict(X_3_test)\n",
    "y_train_4_predicted = dt_4.predict(X_4_train)\n",
    "y_test_4_predicted = dt_4.predict(X_4_test)"
   ]
  },
  {
   "cell_type": "code",
   "execution_count": 0,
   "metadata": {
    "application/vnd.databricks.v1+cell": {
     "cellMetadata": {
      "byteLimit": 2048000,
      "rowLimit": 10000
     },
     "inputWidgets": {},
     "nuid": "a7c467d9-edd8-4b3a-a2ae-63702e7de6b4",
     "showTitle": false,
     "title": ""
    }
   },
   "outputs": [
    {
     "output_type": "stream",
     "name": "stdout",
     "output_type": "stream",
     "text": [
      "model 1: training accuracy:  1.0\nmodel 1: test accuracy:      0.5016666666666667\n \nmodel 2: training accuracy:  1.0\nmodel 2: test accuracy:      0.9233333333333333\n \nmodel 3: training accuracy:  1.0\nmodel 3: test accuracy:      0.9933333333333333\n \nmodel 4: training accuracy:  1.0\nmodel 4: test accuracy:      0.49333333333333335\n"
     ]
    }
   ],
   "source": [
    "train_1_accuracy = accuracy_score(y_train, y_train_1_predicted)\n",
    "test_1_accuracy = accuracy_score(y_test, y_test_1_predicted)\n",
    "\n",
    "train_2_accuracy = accuracy_score(y_train, y_train_2_predicted)\n",
    "test_2_accuracy = accuracy_score(y_test, y_test_2_predicted)\n",
    "\n",
    "train_3_accuracy = accuracy_score(y_train, y_train_3_predicted)\n",
    "test_3_accuracy = accuracy_score(y_test, y_test_3_predicted)\n",
    "\n",
    "train_4_accuracy = accuracy_score(y_train, y_train_4_predicted)\n",
    "test_4_accuracy = accuracy_score(y_test, y_test_4_predicted)\n",
    "\n",
    "print(\"model 1: training accuracy: \", train_1_accuracy)\n",
    "print(\"model 1: test accuracy:     \", test_1_accuracy)\n",
    "print(\" \")\n",
    "print(\"model 2: training accuracy: \", train_2_accuracy)\n",
    "print(\"model 2: test accuracy:     \", test_2_accuracy)\n",
    "print(\" \")\n",
    "print(\"model 3: training accuracy: \", train_3_accuracy)\n",
    "print(\"model 3: test accuracy:     \", test_3_accuracy)\n",
    "print(\" \")\n",
    "print(\"model 4: training accuracy: \", train_4_accuracy)\n",
    "print(\"model 4: test accuracy:     \", test_4_accuracy)"
   ]
  },
  {
   "cell_type": "code",
   "execution_count": 0,
   "metadata": {
    "application/vnd.databricks.v1+cell": {
     "cellMetadata": {
      "byteLimit": 2048000,
      "rowLimit": 10000
     },
     "inputWidgets": {},
     "nuid": "b63eebd7-7f94-468e-a542-5209c88ad14d",
     "showTitle": false,
     "title": ""
    }
   },
   "outputs": [
    {
     "output_type": "stream",
     "name": "stdout",
     "output_type": "stream",
     "text": [
      "Cardio Enthusiast    205\nWeight Trainer       167\nAthlete              159\nSedentary             69\nName: lifestyle, dtype: int64\nModel 3 Confusion Matrix:      [[158   1   0   0]\n [  2 203   0   0]\n [  0   0  69   0]\n [  1   0   0 166]]\n"
     ]
    }
   ],
   "source": [
    "from sklearn.metrics import confusion_matrix\n",
    "test_3_cm= confusion_matrix(y_test, y_test_3_predicted)\n",
    "print(y_test.value_counts())\n",
    "print(\"Model 3 Confusion Matrix:     \", test_3_cm)"
   ]
  },
  {
   "cell_type": "markdown",
   "metadata": {
    "application/vnd.databricks.v1+cell": {
     "cellMetadata": {},
     "inputWidgets": {},
     "nuid": "5f640810-b662-4d33-9dbf-2c1ece3a571e",
     "showTitle": false,
     "title": ""
    }
   },
   "source": [
    "## Exercise 8\n",
    "\n",
    "Summary: \n",
    "* Assess your model against the overall objective. \n",
    "* Be sure to use an evaluation metric that aligns with your specified objective.\n",
    "\n",
    "<img alt=\"Hint\" title=\"Hint\" style=\"vertical-align: text-bottom; position: relative; height:1.75em; top:0.3em\" src=\"https://files.training.databricks.com/static/images/icon-light-bulb.svg\"/>&nbsp;**Hint:** Remember that we assess our models against our test data set to ensure that our solutions generalize.\n",
    "\n",
    "<img alt=\"Hint\" title=\"Hint\" style=\"vertical-align: text-bottom; position: relative; height:1.75em; top:0.3em\" src=\"https://files.training.databricks.com/static/images/icon-light-bulb.svg\"/>&nbsp;**Hint:** If your solution doesn't meet the objective, consider tweaking the model and data used by the model until it does meet the objective."
   ]
  },
  {
   "cell_type": "markdown",
   "metadata": {
    "application/vnd.databricks.v1+cell": {
     "cellMetadata": {},
     "inputWidgets": {},
     "nuid": "c717f6c4-fa6f-4d6f-9640-f26fa33744cf",
     "showTitle": false,
     "title": ""
    }
   },
   "source": [
    "After completing all of the above objectives, you should be ready to communicate your results. Move to the next video in the lesson for a description on that part of the project.\n"
   ]
  },
  {
   "cell_type": "markdown",
   "metadata": {
    "application/vnd.databricks.v1+cell": {
     "cellMetadata": {},
     "inputWidgets": {},
     "nuid": "62a1b4e0-6614-4e1f-a2fe-c0d060238329",
     "showTitle": false,
     "title": ""
    }
   },
   "source": [
    "&copy; 2021 Databricks, Inc. All rights reserved.<br/>\n",
    "Apache, Apache Spark, Spark and the Spark logo are trademarks of the <a href=\"http://www.apache.org/\">Apache Software Foundation</a>.<br/>\n",
    "<br/>\n",
    "<a href=\"https://databricks.com/privacy-policy\">Privacy Policy</a> | <a href=\"https://databricks.com/terms-of-use\">Terms of Use</a> | <a href=\"http://help.databricks.com/\">Support</a>"
   ]
  }
 ],
 "metadata": {
  "application/vnd.databricks.v1+notebook": {
   "dashboards": [],
   "language": "python",
   "notebookMetadata": {
    "mostRecentlyExecutedCommandWithImplicitDF": {
     "commandId": 3761101621301621,
     "dataframes": [
      "_sqldf"
     ]
    },
    "pythonIndentUnit": 2
   },
   "notebookName": "6.2.1 Lab - Data Science Project",
   "widgets": {}
  }
 },
 "nbformat": 4,
 "nbformat_minor": 0
}
